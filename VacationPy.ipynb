{
 "cells": [
  {
   "cell_type": "markdown",
   "metadata": {},
   "source": [
    "###### Creates heatmaps using the gmaps API\n",
    "heatmap is created for different weather parameter from the dataframe"
   ]
  },
  {
   "cell_type": "code",
   "execution_count": 1,
   "metadata": {},
   "outputs": [],
   "source": [
    "#imports the dependencies\n",
    "import pandas as pd\n",
    "import gmaps\n",
    "import requests\n",
    "\n",
    "#imports the api key\n",
    "from config import g_key"
   ]
  },
  {
   "cell_type": "code",
   "execution_count": 2,
   "metadata": {},
   "outputs": [],
   "source": [
    "#stores the csv saved and created into a dataframe\n",
    "city_data_df = pd.read_csv('weather_data/cities.csv')\n",
    "#city_data_df.head()"
   ]
  },
  {
   "cell_type": "code",
   "execution_count": 3,
   "metadata": {},
   "outputs": [
    {
     "data": {
      "text/plain": [
       "City_ID         int64\n",
       "City           object\n",
       "Country        object\n",
       "Date           object\n",
       "Lat           float64\n",
       "Lng           float64\n",
       "Max Temp      float64\n",
       "Humidity        int64\n",
       "Cloudiness      int64\n",
       "Wind Speed    float64\n",
       "dtype: object"
      ]
     },
     "execution_count": 3,
     "metadata": {},
     "output_type": "execute_result"
    }
   ],
   "source": [
    "#checking for data types\n",
    "#gmaps require either an integer or floating-point decimal number\n",
    "\n",
    "city_data_df.dtypes"
   ]
  },
  {
   "cell_type": "code",
   "execution_count": 4,
   "metadata": {},
   "outputs": [],
   "source": [
    "#configures gmaps to use your google API key\n",
    "gmaps.configure(api_key = g_key)"
   ]
  },
  {
   "cell_type": "markdown",
   "metadata": {},
   "source": [
    "#removes the negative weight since it cant hold negative values\n",
    "#gets the max temp\n",
    "max_temp = city_data_df['Max Temp']\n",
    "\n",
    "temps = []\n",
    "for temp in max_temp:\n",
    "    temps.append(max(temp, 0))"
   ]
  },
  {
   "cell_type": "code",
   "execution_count": 5,
   "metadata": {},
   "outputs": [
    {
     "data": {
      "application/vnd.jupyter.widget-view+json": {
       "model_id": "e854b6855b1d4aeeab0a0904fb07e87b",
       "version_major": 2,
       "version_minor": 0
      },
      "text/plain": [
       "Figure(layout=FigureLayout(height='420px'))"
      ]
     },
     "metadata": {},
     "output_type": "display_data"
    }
   ],
   "source": [
    "#creating the heat map\n",
    "\n",
    "#assigns the locations to an array of latitude and longitude pairs\n",
    "locations = city_data_df[['Lat', 'Lng']]\n",
    "\n",
    "#gets the max temp\n",
    "max_temp = city_data_df['Max Temp']\n",
    "\n",
    "#assigns the figure variable\n",
    "fig = gmaps.figure(center = (30.0, 31.0), zoom_level = 1.5)\n",
    "\n",
    "#assigns the heatmap variable\n",
    "#previous for loop replaced with list comprehension\n",
    "heat_layer = gmaps.heatmap_layer(locations, weights = [max(temp, 0) for temp in max_temp], \n",
    "                                 dissipating = False, max_intensity = 300, point_radius = 4)\n",
    "\n",
    "#adds the heatmap layer\n",
    "fig.add_layer(heat_layer)\n",
    "\n",
    "#calls the figure to plot data\n",
    "fig"
   ]
  },
  {
   "cell_type": "code",
   "execution_count": 6,
   "metadata": {},
   "outputs": [
    {
     "data": {
      "application/vnd.jupyter.widget-view+json": {
       "model_id": "fe83bdd0682043c5a704cf7e73074987",
       "version_major": 2,
       "version_minor": 0
      },
      "text/plain": [
       "Figure(layout=FigureLayout(height='420px'))"
      ]
     },
     "metadata": {},
     "output_type": "display_data"
    }
   ],
   "source": [
    "#heatmap of percent humidity\n",
    "\n",
    "#assigns location to an array of latitude and longitude pairs\n",
    "locations = city_data_df[['Lat', 'Lng']]\n",
    "\n",
    "#gets the humidity values from the dataframe\n",
    "humidity = city_data_df['Humidity']\n",
    "\n",
    "#assigns the figure variable\n",
    "fig = gmaps.figure(center = (30.0, 31.0), zoom_level = 1.5)\n",
    "\n",
    "#assigns the heatmap variable\n",
    "heat_layer = gmaps.heatmap_layer(locations, weights = humidity,\n",
    "                             dissipating = False, max_intensity = 300,\n",
    "                             point_radius = 4)\n",
    "\n",
    "#adds the heatmap layer\n",
    "fig.add_layer(heat_layer)\n",
    "\n",
    "#calls the fig\n",
    "fig"
   ]
  },
  {
   "cell_type": "code",
   "execution_count": 7,
   "metadata": {},
   "outputs": [
    {
     "data": {
      "application/vnd.jupyter.widget-view+json": {
       "model_id": "b6328fb353a543b7b5a9a192ca408f23",
       "version_major": 2,
       "version_minor": 0
      },
      "text/plain": [
       "Figure(layout=FigureLayout(height='420px'))"
      ]
     },
     "metadata": {},
     "output_type": "display_data"
    }
   ],
   "source": [
    "#heatmap of percent cloudiness\n",
    "\n",
    "#assigns location to an array of latitude and longitude pairs\n",
    "locations = city_data_df[['Lat', 'Lng']]\n",
    "\n",
    "#gets the Cloudiness values from the dataframe\n",
    "clouds = city_data_df['Cloudiness']\n",
    "\n",
    "#assigns the fig variable\n",
    "fig = gmaps.figure(center = (30.0, 31.0), zoom_level = 1.5)\n",
    "\n",
    "#assigns the heatmap variable\n",
    "heat_layer = gmaps.heatmap_layer(locations, weights = clouds,\n",
    "                                dissipating = False, max_intensity = 300,\n",
    "                                point_radius = 4)\n",
    "\n",
    "#adds the heatmap layer to the figure\n",
    "fig.add_layer(heat_layer)\n",
    "\n",
    "#calls the fig\n",
    "fig"
   ]
  },
  {
   "cell_type": "code",
   "execution_count": 8,
   "metadata": {},
   "outputs": [
    {
     "data": {
      "application/vnd.jupyter.widget-view+json": {
       "model_id": "08f6718c74aa4b9ba25a4d5b80488250",
       "version_major": 2,
       "version_minor": 0
      },
      "text/plain": [
       "Figure(layout=FigureLayout(height='420px'))"
      ]
     },
     "metadata": {},
     "output_type": "display_data"
    }
   ],
   "source": [
    "#heatmap of the wind speeds\n",
    "\n",
    "#assigns the location to an array of latitudes and longitudes pairs\n",
    "locations = city_data_df[['Lat', 'Lng']]\n",
    "\n",
    "#gets the wind speed values from the dataframe\n",
    "wind = city_data_df['Wind Speed']\n",
    "\n",
    "#assigns the figure variable\n",
    "fig = gmaps.figure(center = (30.0, 31.0), zoom_level = 1.5)\n",
    "\n",
    "#assigns the heatmap variable\n",
    "heat_layer = gmaps.heatmap_layer(locations, weights = wind,\n",
    "                                dissipating = False, max_intensity = 300,\n",
    "                                point_radius = 4)\n",
    "\n",
    "#adds the heatmap layer to the figure\n",
    "fig.add_layer(heat_layer)\n",
    "\n",
    "#calls the figure\n",
    "fig"
   ]
  },
  {
   "cell_type": "markdown",
   "metadata": {},
   "source": [
    "###### Gets an input for vacation criteria\n",
    "the user provides a max and min temp so that a location search can be performed and thus reccomendations"
   ]
  },
  {
   "cell_type": "code",
   "execution_count": 9,
   "metadata": {},
   "outputs": [
    {
     "name": "stdout",
     "output_type": "stream",
     "text": [
      "What is the minimum temperature (F) you would like for your vacation destination? 60\n",
      "What is the maximum temperature (F) you would like for your vacation destination? 90\n"
     ]
    }
   ],
   "source": [
    "#asks for user input to add a max and min temps\n",
    "min_temp = float(input('What is the minimum temperature (F) you would like for your vacation destination? '))\n",
    "max_temp = float(input('What is the maximum temperature (F) you would like for your vacation destination? '))"
   ]
  },
  {
   "cell_type": "code",
   "execution_count": 10,
   "metadata": {},
   "outputs": [],
   "source": [
    "#filters the dataset to find cities within the user input's parameters and drops any with null values\n",
    "preferred_cities_df = city_data_df.loc[(city_data_df['Max Temp'] <= max_temp) & (city_data_df['Max Temp'] >= min_temp)].dropna()\n",
    "\n",
    "#preferred_cities_df.head()"
   ]
  },
  {
   "cell_type": "code",
   "execution_count": 11,
   "metadata": {},
   "outputs": [
    {
     "data": {
      "text/plain": [
       "City_ID       288\n",
       "City          288\n",
       "Country       288\n",
       "Date          288\n",
       "Lat           288\n",
       "Lng           288\n",
       "Max Temp      288\n",
       "Humidity      288\n",
       "Cloudiness    288\n",
       "Wind Speed    288\n",
       "dtype: int64"
      ]
     },
     "execution_count": 11,
     "metadata": {},
     "output_type": "execute_result"
    }
   ],
   "source": [
    "#checked any cities for null values\n",
    "#dropna() method was used when filtering for the new dataframe as well\n",
    "preferred_cities_df.count()"
   ]
  },
  {
   "cell_type": "markdown",
   "metadata": {},
   "source": [
    "###### maps the vacation critera\n",
    "maps the vacation criteria based on a new filtered dataframe from the user input's parameters"
   ]
  },
  {
   "cell_type": "code",
   "execution_count": 12,
   "metadata": {},
   "outputs": [
    {
     "name": "stderr",
     "output_type": "stream",
     "text": [
      "C:\\Users\\Owner\\anaconda3\\envs\\PythonData\\lib\\site-packages\\ipykernel_launcher.py:3: SettingWithCopyWarning: \n",
      "A value is trying to be set on a copy of a slice from a DataFrame.\n",
      "Try using .loc[row_indexer,col_indexer] = value instead\n",
      "\n",
      "See the caveats in the documentation: https://pandas.pydata.org/pandas-docs/stable/user_guide/indexing.html#returning-a-view-versus-a-copy\n",
      "  This is separate from the ipykernel package so we can avoid doing imports until\n"
     ]
    }
   ],
   "source": [
    "#copies some columns from the preferred_cities_df and adds a new column called 'Hotel Name'\n",
    "hotel_df = preferred_cities_df[['City', 'Country', 'Max Temp', 'Lat', 'Lng']]\n",
    "hotel_df['Hotel Name'] = ''\n",
    "#hotel_df.head()"
   ]
  },
  {
   "cell_type": "code",
   "execution_count": 13,
   "metadata": {
    "scrolled": true
   },
   "outputs": [
    {
     "name": "stderr",
     "output_type": "stream",
     "text": [
      "C:\\Users\\Owner\\anaconda3\\envs\\PythonData\\lib\\site-packages\\pandas\\core\\indexing.py:1765: SettingWithCopyWarning: \n",
      "A value is trying to be set on a copy of a slice from a DataFrame.\n",
      "Try using .loc[row_indexer,col_indexer] = value instead\n",
      "\n",
      "See the caveats in the documentation: https://pandas.pydata.org/pandas-docs/stable/user_guide/indexing.html#returning-a-view-versus-a-copy\n",
      "  isetter(loc, value)\n"
     ]
    },
    {
     "name": "stdout",
     "output_type": "stream",
     "text": [
      "Hotel not found... skipping\n",
      "Hotel not found... skipping\n",
      "Hotel not found... skipping\n",
      "Hotel not found... skipping\n",
      "Hotel not found... skipping\n",
      "Hotel not found... skipping\n",
      "Hotel not found... skipping\n",
      "Hotel not found... skipping\n",
      "Hotel not found... skipping\n",
      "Hotel not found... skipping\n",
      "Hotel not found... skipping\n",
      "Hotel not found... skipping\n",
      "Hotel not found... skipping\n",
      "Hotel not found... skipping\n",
      "Hotel not found... skipping\n",
      "Hotel not found... skipping\n",
      "Hotel not found... skipping\n",
      "Hotel not found... skipping\n",
      "Hotel not found... skipping\n",
      "Hotel not found... skipping\n",
      "Hotel not found... skipping\n",
      "Hotel not found... skipping\n"
     ]
    }
   ],
   "source": [
    "#retrieves the hotels from a nearby search using Google Places API\n",
    "\n",
    "#sets the parameters to search for a hotel\n",
    "params = {'radius': 5000,\n",
    "         'type': 'lodging',\n",
    "         'key': g_key}\n",
    "\n",
    "#iterates through the dataframe\n",
    "for index, row in hotel_df.iterrows():\n",
    "    \n",
    "    #gets the latitude and longitude\n",
    "    lat = row['Lat']\n",
    "    lng = row['Lng']\n",
    "    \n",
    "    #adds the latitude and longitude to the location key for the params dictionary\n",
    "    params['location'] = f'{lat},{lng}'\n",
    "    \n",
    "    #uses the search term: 'lodging' and our latitude and longitude\n",
    "    base_url = 'https://maps.googleapis.com/maps/api/place/nearbysearch/json'\n",
    "    \n",
    "    #makes the request and gets the JSON data from the search\n",
    "    hotels = requests.get(base_url, params = params).json()\n",
    "    \n",
    "    try:\n",
    "        #grabs the first hotel from the results and stores the name\n",
    "        hotel_df.loc[index, 'Hotel Name'] = hotels['results'][0]['name']\n",
    "    \n",
    "    except (IndexError):\n",
    "        print('Hotel not found... skipping')"
   ]
  },
  {
   "cell_type": "code",
   "execution_count": 14,
   "metadata": {},
   "outputs": [
    {
     "data": {
      "text/html": [
       "<div>\n",
       "<style scoped>\n",
       "    .dataframe tbody tr th:only-of-type {\n",
       "        vertical-align: middle;\n",
       "    }\n",
       "\n",
       "    .dataframe tbody tr th {\n",
       "        vertical-align: top;\n",
       "    }\n",
       "\n",
       "    .dataframe thead th {\n",
       "        text-align: right;\n",
       "    }\n",
       "</style>\n",
       "<table border=\"1\" class=\"dataframe\">\n",
       "  <thead>\n",
       "    <tr style=\"text-align: right;\">\n",
       "      <th></th>\n",
       "      <th>City</th>\n",
       "      <th>Country</th>\n",
       "      <th>Max Temp</th>\n",
       "      <th>Lat</th>\n",
       "      <th>Lng</th>\n",
       "      <th>Hotel Name</th>\n",
       "    </tr>\n",
       "  </thead>\n",
       "  <tbody>\n",
       "    <tr>\n",
       "      <th>0</th>\n",
       "      <td>Mahebourg</td>\n",
       "      <td>MU</td>\n",
       "      <td>77.00</td>\n",
       "      <td>-20.4081</td>\n",
       "      <td>57.7000</td>\n",
       "      <td>Shandrani Beachcomber Resort &amp; Spa</td>\n",
       "    </tr>\n",
       "    <tr>\n",
       "      <th>4</th>\n",
       "      <td>Mar Del Plata</td>\n",
       "      <td>AR</td>\n",
       "      <td>64.00</td>\n",
       "      <td>-38.0023</td>\n",
       "      <td>-57.5575</td>\n",
       "      <td>Gran Hotel Mar del Plata</td>\n",
       "    </tr>\n",
       "    <tr>\n",
       "      <th>5</th>\n",
       "      <td>Paramonga</td>\n",
       "      <td>PE</td>\n",
       "      <td>70.50</td>\n",
       "      <td>-10.6667</td>\n",
       "      <td>-77.8333</td>\n",
       "      <td>HOSTAL MI CHALET - PARAMONGA</td>\n",
       "    </tr>\n",
       "    <tr>\n",
       "      <th>6</th>\n",
       "      <td>Butaritari</td>\n",
       "      <td>KI</td>\n",
       "      <td>81.07</td>\n",
       "      <td>3.0707</td>\n",
       "      <td>172.7902</td>\n",
       "      <td>Isles Sunset Lodge</td>\n",
       "    </tr>\n",
       "    <tr>\n",
       "      <th>8</th>\n",
       "      <td>Bluff</td>\n",
       "      <td>NZ</td>\n",
       "      <td>61.27</td>\n",
       "      <td>-46.6000</td>\n",
       "      <td>168.3333</td>\n",
       "      <td>Bluff Homestead - Guesthouse &amp; Campervan Park</td>\n",
       "    </tr>\n",
       "  </tbody>\n",
       "</table>\n",
       "</div>"
      ],
      "text/plain": [
       "            City Country  Max Temp      Lat       Lng  \\\n",
       "0      Mahebourg      MU     77.00 -20.4081   57.7000   \n",
       "4  Mar Del Plata      AR     64.00 -38.0023  -57.5575   \n",
       "5      Paramonga      PE     70.50 -10.6667  -77.8333   \n",
       "6     Butaritari      KI     81.07   3.0707  172.7902   \n",
       "8          Bluff      NZ     61.27 -46.6000  168.3333   \n",
       "\n",
       "                                      Hotel Name  \n",
       "0             Shandrani Beachcomber Resort & Spa  \n",
       "4                       Gran Hotel Mar del Plata  \n",
       "5                   HOSTAL MI CHALET - PARAMONGA  \n",
       "6                             Isles Sunset Lodge  \n",
       "8  Bluff Homestead - Guesthouse & Campervan Park  "
      ]
     },
     "execution_count": 14,
     "metadata": {},
     "output_type": "execute_result"
    }
   ],
   "source": [
    "#checks if hotel names are added\n",
    "hotel_df.head()"
   ]
  },
  {
   "cell_type": "code",
   "execution_count": 15,
   "metadata": {},
   "outputs": [
    {
     "data": {
      "application/vnd.jupyter.widget-view+json": {
       "model_id": "9486ef90b2714fa8b3e0487d50d829d3",
       "version_major": 2,
       "version_minor": 0
      },
      "text/plain": [
       "Figure(layout=FigureLayout(height='420px'))"
      ]
     },
     "metadata": {},
     "output_type": "display_data"
    }
   ],
   "source": [
    "#heatmap of of max temps from the hotel dataframe\n",
    "info_box_template = \"\"\"\n",
    "<dl>\n",
    "<dt>Hotel Name</dt><dd>{Hotel Name}</dd>\n",
    "<dt>City</dt><dd>{City}</dd>\n",
    "<dt>Country</dt><dd>{Country}</dd>\n",
    "<dt>Max Temp</dt><dd>{Max Temp} °F</dd>\n",
    "</dl>\n",
    "\"\"\"\n",
    "\n",
    "#store the dataframe row\n",
    "hotel_info = [info_box_template.format(**row) for index, row in hotel_df.iterrows()]\n",
    "\n",
    "#assigns the location to an array of latitudes and longitudes pairs\n",
    "locations = hotel_df[['Lat', 'Lng']]\n",
    "\n",
    "#gets the wind speed values from the dataframe\n",
    "max_temp = hotel_df['Max Temp']\n",
    "\n",
    "#assigns the figure variable\n",
    "fig = gmaps.figure(center = (30.0, 31.0), zoom_level = 1.5)\n",
    "\n",
    "#assigns the heatmap variable\n",
    "heat_layer = gmaps.heatmap_layer(locations, weights = max_temp,\n",
    "                                dissipating = False, max_intensity = 300,\n",
    "                                point_radius = 4)\n",
    "\n",
    "#assigns the markers variable\n",
    "marker_layer = gmaps.marker_layer(locations, info_box_content = hotel_info)\n",
    "\n",
    "#adds the marker layer to the figure\n",
    "fig.add_layer(marker_layer)\n",
    "\n",
    "#adds the heatmap layer to the figure\n",
    "fig.add_layer(heat_layer)\n",
    "\n",
    "#calls the figure\n",
    "fig"
   ]
  },
  {
   "cell_type": "code",
   "execution_count": null,
   "metadata": {},
   "outputs": [],
   "source": []
  }
 ],
 "metadata": {
  "kernelspec": {
   "display_name": "PythonData",
   "language": "python",
   "name": "pythondata"
  },
  "language_info": {
   "codemirror_mode": {
    "name": "ipython",
    "version": 3
   },
   "file_extension": ".py",
   "mimetype": "text/x-python",
   "name": "python",
   "nbconvert_exporter": "python",
   "pygments_lexer": "ipython3",
   "version": "3.7.9"
  }
 },
 "nbformat": 4,
 "nbformat_minor": 4
}
